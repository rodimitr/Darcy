{
 "cells": [
  {
   "cell_type": "markdown",
   "metadata": {},
   "source": [
    "# Travail personnel d'analyse numérique : Advection-Diffusion\n",
    "\n",
    "Marine VILARIÑO FOSTIER\n",
    "\n",
    "Rossen DIMITROV\n"
   ]
  },
  {
   "cell_type": "markdown",
   "metadata": {},
   "source": [
    "### Question 1 \n",
    "\n",
    "Nous définissons un nouveau système de variables $(\\xi, t)$ où $\\xi = z \\sqrt{\\frac{Ra}{4t}}$\n",
    "\n",
    "Par la règle de dérivation en chaine, nous avons:\n",
    "\n",
    "$$\\frac{\\partial}{\\partial z} = \\frac{\\partial \\xi}{\\partial z}\\frac{\\partial}{\\partial \\xi} + \\frac{\\partial t}{\\partial z}\\frac{\\partial}{\\partial t}$$\n",
    "\n",
    "$$\\text{Où} \\frac{\\partial t}{\\partial z} = 0 \\text{  et} \\frac{\\partial \\xi}{\\partial z} = \\sqrt{\\frac{Ra}{4t}}$$\n",
    "\n",
    "On obtient donc \n",
    "$$\\frac{\\partial}{\\partial z} = \\sqrt{\\frac{Ra}{4t}}\\frac{\\partial}{\\partial \\xi}$$\n",
    "\n",
    "On peut également calculer\n",
    "\n",
    "$$\\frac{\\partial ^2}{\\partial z^2} = \\frac{\\partial}{\\partial z}\\left(\\frac{\\partial \\xi}{\\partial z}\\frac{\\partial}{\\partial \\xi}\\right) = \\frac{\\partial ^2}{\\partial z \\partial \\xi}\\frac{\\partial \\xi}{\\partial z} + \\frac{\\partial ^2\\xi}{\\partial z^2}\\frac{\\partial}{\\partial \\xi}$$\n",
    "\n",
    "où \n",
    "\n",
    "$$\\frac{\\partial ^2\\xi}{\\partial z^2} = 0$$\n",
    "\n",
    "et où \n",
    "\n",
    "$$\\frac{\\partial ^2}{\\partial z \\partial \\xi} = \\frac{\\partial}{\\partial \\xi}\\frac{\\partial}{\\partial z} = \\frac{\\partial}{\\partial \\xi}\\frac{\\partial}{\\partial \\xi}\\frac{\\partial \\xi}{\\partial z} = \\frac{\\partial \\xi}{\\partial z}\\frac{\\partial ^2}{\\partial \\xi ^2}$$\n",
    "\n",
    "Ce qui nous donne \n",
    "\n",
    "$$ \\frac{\\partial ^2}{\\partial z^2} = \\left(\\frac{\\partial \\xi}{\\partial z}\\right)^2 \\frac{\\partial ^2}{\\partial \\xi ^2} = \\frac{Ra}{4t} \\frac{\\partial ^2}{\\partial \\xi ^2}$$\n",
    "\n",
    "Par la règle de dérivation en chaine, nous calculons également la dérivée en le temps dans le nouveau système de coordonnées:\n",
    "\n",
    "$$\\frac{\\partial}{\\partial t} = \\frac{\\partial \\xi}{\\partial t}\\frac{\\partial}{\\partial \\xi} + \\frac{\\partial t}{\\partial t}\\frac{\\partial}{\\partial t}$$\n",
    "\n",
    "Où \n",
    "\n",
    "$$\\frac{\\partial t}{\\partial t} = 1$$\n",
    "\n",
    "Et où \n",
    "\n",
    "$$\\frac{\\partial \\xi}{\\partial t} = z \\sqrt{\\frac{Ra}{4}} \\frac{-1}{2}t^{-\\frac{3}{2}} = -z\\sqrt{\\frac{Ra}{4t}}\\frac{1}{2t}=-\\frac{\\xi}{2t}$$\n",
    "\n",
    "Ce qui nous donne donc \n",
    "\n",
    "$$\\frac{\\partial}{\\partial t} = -\\frac{\\xi}{2t}\\frac{\\partial}{\\partial \\xi} + \\frac{\\partial}{\\partial t}$$\n",
    "\n",
    "Pour le changement de coordonées.\n",
    "\n",
    "Nous pouvons maintenant remplacer ces expressions. La première équation du système nous donne:\n",
    "\n",
    "$$\\left(\\frac{\\partial^2}{\\partial z^2}-k^2\\right)w = \\left(\\frac{Ra}{4t}\\frac{\\partial^2}{\\partial \\xi^2}-k^2\\right)w = -k^2c$$\n",
    "\n",
    "Pour la seconde équation, le membre de gauche devient:\n",
    "\n",
    "$$\\frac{\\partial c}{\\partial t}-\\frac{1}{Ra}\\left(\\frac{\\partial^2}{\\partial z^2}-k^2\\right)c = \\left(-\\frac{\\xi}{2t}\\frac{\\partial}{\\partial \\xi} + \\frac{\\partial}{\\partial t}\\right)c - \\frac{1}{Ra}\\left(\\frac{Ra}{4t}\\frac{\\partial^2}{\\partial\\xi^2}-k^2\\right)c =\\frac{\\partial c}{\\partial t}-\\frac{1}{t}\\left(\\frac{1}{4}\\frac{\\partial^2}{\\partial \\xi^2}+\\frac{\\xi}{2}\\frac{\\partial}{\\partial\\xi}-\\frac{k^2 t}{Ra}\\right)c $$\n",
    "\n",
    "Et nous avons directement, pour le membre de droite,\n",
    "\n",
    "$$-\\frac{\\partial C_0}{\\partial z}w =\\frac{2}{\\sqrt{\\pi}}\\sqrt{\\frac{Ra}{4t}}e^{-\\left(z\\sqrt{\\frac{Ra}{4t}}\\right)^2}w=\\sqrt{\\frac{Ra}{\\pi t}}e^{-\\xi^2}w$$"
   ]
  },
  {
   "cell_type": "markdown",
   "metadata": {},
   "source": [
    "### Question 2"
   ]
  },
  {
   "cell_type": "code",
   "execution_count": 30,
   "metadata": {},
   "outputs": [],
   "source": [
    "from numpy import linalg\n",
    "import numpy as np\n",
    "import matplotlib.pyplot as plt\n",
    "%matplotlib inline\n",
    "from math import exp\n",
    "from math import pi"
   ]
  },
  {
   "cell_type": "code",
   "execution_count": 87,
   "metadata": {},
   "outputs": [],
   "source": [
    "# Création de la matrice des xi_m\n",
    "e=np.zeros(101)\n",
    "for i in range (101):\n",
    "    e[i]=0.05*i"
   ]
  },
  {
   "cell_type": "code",
   "execution_count": 27,
   "metadata": {},
   "outputs": [
    {
     "name": "stdout",
     "output_type": "stream",
     "text": [
      "[[     0.              0.              0.         ...      0.\n",
      "       0.              0.        ]\n",
      " [  8333.33333333 -16666.66676667   8333.33333333 ...      0.\n",
      "       0.              0.        ]\n",
      " [     0.           8333.33333333 -16666.66676667 ...      0.\n",
      "       0.              0.        ]\n",
      " ...\n",
      " [     0.              0.              0.         ... -16666.66676667\n",
      "    8333.33333333      0.        ]\n",
      " [     0.              0.              0.         ...   8333.33333333\n",
      "  -16666.66676667   8333.33333333]\n",
      " [     0.              0.              0.         ...      0.\n",
      "       0.              0.        ]]\n"
     ]
    }
   ],
   "source": [
    "# Construction de l'opérateur L\n",
    "L1=np.zeros((101,101))\n",
    "for i in range(99):\n",
    "    L1[i+1,i]=1\n",
    "    L1[i+1,i+1]=-2\n",
    "    L1[i+1,i+2]=1\n",
    "    \n",
    "L2=np.zeros((101,101))\n",
    "for i in range(99):\n",
    "    L2[i+1,i+1]=k**2\n",
    "    \n",
    "L=np.dot(Ra/(4*t*(delta**2)),L1)-L2\n",
    "print(L)"
   ]
  },
  {
   "cell_type": "code",
   "execution_count": 88,
   "metadata": {},
   "outputs": [
    {
     "name": "stdout",
     "output_type": "stream",
     "text": [
      "[[        0.           0.           0.   ...         0.           0.\n",
      "          0.  ]\n",
      " [-10000000.25  20000000.    10000000.25 ...         0.           0.\n",
      "          0.  ]\n",
      " [        0.   -10000000.5   20000000.   ...         0.           0.\n",
      "          0.  ]\n",
      " ...\n",
      " [        0.           0.           0.   ...  20000000.    10000024.5\n",
      "          0.  ]\n",
      " [        0.           0.           0.   ... -10000024.75  20000000.\n",
      "   10000024.75]\n",
      " [        0.           0.           0.   ...         0.           0.\n",
      "          0.  ]]\n"
     ]
    }
   ],
   "source": [
    "# Construction de l'opérateur M:\n",
    "M1=np.zeros((101,101))\n",
    "for i in range(99):\n",
    "    M1[i+1,i]=-1\n",
    "    M1[i+1,i+1]=2\n",
    "    M1[i+1,i+2]=1\n",
    "M2=np.zeros((101,101))\n",
    "for i in range(99):\n",
    "    M2[i+1,i]=-1*e[i+1]\n",
    "    M2[i+1,i+1]=0\n",
    "    M2[i+1,i+2]=1*e[i+1]\n",
    "M3=np.zeros((101,101))\n",
    "for i in range(99):\n",
    "    M3[i+1,i+1]=1\n",
    "\n",
    "M=np.dot(1/(4*t*(delta**2)),M1)+np.dot(1/(4*(delta)),M2)+np.dot((k**2)*t/(Ra),M3)\n",
    "print(M)"
   ]
  },
  {
   "cell_type": "markdown",
   "metadata": {},
   "source": [
    "### Question 3 ###\n",
    "\n",
    "Nous avons donc\n",
    "\n",
    "$$f(\\xi) = e^{- \\xi ^2} h(\\xi)$$\n",
    "\n",
    "Et on peut calculer\n",
    "\n",
    "$$\\frac{\\partial f}{\\partial \\xi} = -2 \\xi e^{- \\xi ^2}h(\\xi) + e^{- \\xi ^2} h'(\\xi)$$\n",
    "$$\\frac{\\partial ^2 f}{\\partial \\xi ^2} = e^{- \\xi ^2} h''(\\xi) - 4 \\xi e^{- \\xi ^2} h'(\\xi) + (4 \\xi ^2 - 2) e^{- \\xi ^2} h(\\xi)$$\n",
    "\n",
    "Et l'équation aux valeurs propres $Hf = \\frac{1}{4} \\frac{\\partial^2 f}{\\partial \\xi^2}+\\frac{\\xi}{2}\\frac{\\partial f}{\\partial\\xi}=\\alpha f $ devient donc:\n",
    "\n",
    "$$Hf = \\frac{1}{4} e^{- \\xi ^2}(h''(\\xi)-4\\xi h'(\\xi)+(4\\xi^2- 2)h(\\xi))+\\frac{\\xi}{2}e^{-\\xi ^2}(h'(\\xi) - 2\\xi h(\\xi)) = \\alpha e^{-\\xi ^2}h(\\xi) $$\n",
    "\n",
    "Qu'on simplifie pour obtenir\n",
    "\n",
    "$$ h''(\\xi) - 2\\xi h'(\\xi) = (4\\alpha +2) h(\\xi) $$\n",
    "\n",
    "Cette dernière égalité est vérifiée par l'équation de Hermite pour $\\lambda = -2\\alpha -1$\n",
    "\n",
    "$f$ est donc bien une fonction propre de $H$ de valeurs propres $\\alpha = -\\frac{\\lambda + 1}{2}$\n",
    "\n",
    "Nous utilisons les conditions aux bords pour obtenir les valeurs acceptables de $\\alpha$\n",
    "\n",
    "$f(\\xi = \\infty) = \\lim_{\\xi\\to\\infty} e^{-\\xi^2}h(\\xi) = 0$ quel que soit le degré du polynôme $h$\n",
    "\n",
    "$f(\\xi = 0) = \\lim_{\\xi\\to 0} e^{-\\xi^2}h(\\xi) = h(0)$\n",
    "\n",
    "Puisque les solutions de l'équation de Hermite sont les polynômes de Hermite des physiciens $H_\\lambda(\\xi)$, on a que le degré du polynôme doit être impair, pour que le terme de degré 0 soit nul.\n",
    "\n",
    "On en déduit \n",
    "$$\\lambda = 2n + 1, n \\in \\mathbb{N}$$\n",
    "\n",
    "Ce qui nous permet d'obtenir \n",
    "$$\\alpha = -n-1, n\\in\\mathbb{N}$$\n",
    "\n",
    "Les valeurs acceptables de $\\alpha$ sont donc les entiers strictement négatifs."
   ]
  },
  {
   "cell_type": "markdown",
   "metadata": {},
   "source": [
    "### Question 4"
   ]
  },
  {
   "cell_type": "code",
   "execution_count": 19,
   "metadata": {},
   "outputs": [
    {
     "name": "stdout",
     "output_type": "stream",
     "text": [
      "[[   0.      0.      0.   ...    0.      0.      0.  ]\n",
      " [  99.75 -200.    100.25 ...    0.      0.      0.  ]\n",
      " [   0.     99.5  -200.   ...    0.      0.      0.  ]\n",
      " ...\n",
      " [   0.      0.      0.   ... -200.    124.5     0.  ]\n",
      " [   0.      0.      0.   ...   75.25 -200.    124.75]\n",
      " [   0.      0.      0.   ...    0.      0.      0.  ]]\n"
     ]
    }
   ],
   "source": [
    "# Construction de la matrice des H\n",
    "\n",
    "H=np.zeros((101,101))\n",
    "for i in range(99):\n",
    "    H[i+1,i]=1/(4*h**2)-e[i+1]/(4*h)\n",
    "    H[i+1,i+1]=-1/(2*h**2)\n",
    "    H[i+1,i+2]=1/(4*h**2)+e[i+1]/(4*h)"
   ]
  },
  {
   "cell_type": "code",
   "execution_count": 20,
   "metadata": {},
   "outputs": [
    {
     "name": "stdout",
     "output_type": "stream",
     "text": [
      "[-399.         -397.99999954 -396.99996223 -395.99884683 -394.98498415\n",
      " -393.90842709 -381.32800596 -383.69428059 -385.87635418 -387.8708373\n",
      " -378.78068155 -392.68964241 -376.0553717  -389.67389068 -373.15514682\n",
      " -370.08313917 -352.2635775  -356.14362884 -359.86928393 -348.23301005\n",
      " -363.43680116 -344.05594478 -339.73653659 -335.27907478 -366.84257631\n",
      " -325.96780137 -321.12321191 -316.15900532 -311.08009138 -305.89149143\n",
      " -300.59833382 -295.20584896 -289.71936446 -272.75053778 -266.94309198\n",
      " -261.06955877 -278.48616172 -255.13573747 -249.14748666 -243.11071841\n",
      " -391.28117598 -237.03139249 -230.91551051 -224.76911005 -218.59825869\n",
      " -212.40904809 -206.20758794 -200.         -193.79241206 -187.59095191\n",
      "   -1.           -2.00000046   -3.00003777   -4.00115317   -5.01501585\n",
      "   -6.09157291 -181.40174131   -7.31035759  -10.32610932  -12.1291627\n",
      "  -14.12364582 -175.23088995  -16.30571941  -18.67199404  -21.21931845\n",
      " -150.85251334 -144.86426253 -138.93044123  -23.9446283  -133.05690801\n",
      "  -99.40166619  -94.10850857  -88.91990862  -51.76698994  -83.84099467\n",
      "  -43.85637116 -104.79415104  -55.94405522  -47.7364225   -40.13071607\n",
      "  -78.87678809  -60.26346341 -156.88928159 -162.96860751  -26.84485318\n",
      " -127.24946222 -110.28063554  -64.72092522  -74.03219862  -36.56319884\n",
      " -121.51383828  -29.91686083 -169.08448949 -284.1442999   -33.15742369\n",
      "   -8.71882402 -115.85570009  -69.31201991 -330.68798009    0.\n",
      "    0.        ]\n"
     ]
    }
   ],
   "source": [
    "# Calcul des valeurs propres et vecteurs propres de H\n",
    "D, V = np.linalg.eig(H)\n",
    "print(D)"
   ]
  },
  {
   "cell_type": "code",
   "execution_count": 38,
   "metadata": {},
   "outputs": [
    {
     "name": "stdout",
     "output_type": "stream",
     "text": [
      "[-1.         -2.00000046 -3.00003777 -4.00115317 -5.01501585]\n"
     ]
    }
   ],
   "source": [
    "# Tri par insertion de la matrice des valeurs propres\n",
    "for i in range(len(D)):\n",
    "    x = D[i]\n",
    "    j = i\n",
    "    while j>0 and x>D[j-1]:\n",
    "        D[j]=D[j-1]\n",
    "        j=j-1\n",
    "    D[j]=x\n",
    "\n",
    "# Selection des cinq plus grandes valeurs propres différentes\n",
    "# (on ne regarde pas ici la dégénérescence)\n",
    "eig_values = np.zeros(5)\n",
    "for i in range(5):\n",
    "    k=i\n",
    "    while D[k] in eig_values:\n",
    "        k=k+1\n",
    "    eig_values[i] = D[k]\n",
    "        \n",
    "print(eig_values)"
   ]
  },
  {
   "cell_type": "markdown",
   "metadata": {},
   "source": [
    "Nous obtenons les cinq premiers entiers strictement négatifs, ce qui est bien le résultat attendu analytiquement."
   ]
  },
  {
   "cell_type": "markdown",
   "metadata": {},
   "source": [
    "### Question 5"
   ]
  },
  {
   "cell_type": "code",
   "execution_count": 77,
   "metadata": {},
   "outputs": [],
   "source": [
    "h=0.05\n",
    "Ra=500\n",
    "k=0.1\n",
    "delta=0.05\n",
    "t=10**-5\n",
    "dt=10**-8\n",
    "nb_iterations_temporelles=9000\n",
    "b=-Ra/(4*(k**2))"
   ]
  },
  {
   "cell_type": "code",
   "execution_count": 78,
   "metadata": {},
   "outputs": [],
   "source": [
    "C=np.zeros((99,99))\n",
    "C[0,0]=b/(t*(delta**2))\n",
    "C[0,1]=-(2*b)/(t*(delta**2))+1\n",
    "C[98,97]=-(2*b)/(t*(delta**2))+1\n",
    "C[98,98]=b/(t*(delta**2))\n",
    "\n",
    "for i in range(97):\n",
    "    C[i+1,i]=b/(t*(delta**2))\n",
    "    C[i+1,i+1]=-(2*b)/(t*(delta**2))+1\n",
    "    C[i+1,i+2]=b/(t*(delta**2))"
   ]
  },
  {
   "cell_type": "code",
   "execution_count": 79,
   "metadata": {},
   "outputs": [],
   "source": [
    "C_inverse=np.linalg.inv(C)\n",
    "Identite=C_inverse.dot(C)"
   ]
  },
  {
   "cell_type": "code",
   "execution_count": 89,
   "metadata": {},
   "outputs": [],
   "source": [
    "# Chargement de la condition initiale qui représente les valeurs de c pour t=0 en chaque valeur de xi\n",
    "c_i = np.load(\"init_cond_c.npy\")\n"
   ]
  },
  {
   "cell_type": "code",
   "execution_count": 81,
   "metadata": {},
   "outputs": [],
   "source": [
    "W=C_inverse.dot(c_i)\n",
    "w=np.zeros(101)\n",
    "for i in range(99):\n",
    "    w[i+1]=W[i]"
   ]
  },
  {
   "cell_type": "code",
   "execution_count": 82,
   "metadata": {},
   "outputs": [],
   "source": [
    "# Ecriture de la fonction qui implémente la dérivée de c\n",
    "def f(cy,cyy,cyyy,t,z,wy):\n",
    "    f1=cy-2*cyy+cyyy/(4*t*(delta**2))\n",
    "    f2=z*(-cy+cyy)/(2*t*delta)\n",
    "    f3=(k**2)*t*cy/Ra\n",
    "    f4=exp(-z**2)*wy*(Ra/pi*t)**(1/2)\n",
    "    f=f1+f2+f3+f4\n",
    "    return f"
   ]
  },
  {
   "cell_type": "code",
   "execution_count": 90,
   "metadata": {},
   "outputs": [],
   "source": [
    "T=np.zeros((nb_iterations_temporelles,101)) # matrice ayant l'evolution \"spatiale\" sur ses lignes, temporelles suivant les colonnes\n",
    "\n",
    "c=np.zeros(101) # valeurs des c suivant les xi en t=t0 (premiere ligne de T)\n",
    "for i in range(99):\n",
    "    c[i+1]=c_i[i]\n",
    "T[0,:]=c \n",
    "\n",
    "c1=np.ones(101) # matrice qui contiendra les valeurs de c à chaque valeur de t\n",
    "c1[0]=0 # conditions de bord données a l'exercice 2\n",
    "c1[100]=0\n",
    "\n",
    "\n",
    "for n in range(nb_iterations_temporelles-1):  \n",
    "    t1=t+dt*n\n",
    "    for i in range(99): # évolution temporelle des composantes de c en utilisant Runge-Kutta d'ordre 4\n",
    "        ksi=e[i+1]\n",
    "        cy=c[i]\n",
    "        cyy=c[i+1]\n",
    "        cyyy=c[i+2]\n",
    "        wy=W[i]\n",
    "        \n",
    "        k1=dt*f(cy,cyy,cyyy,t1,ksi,wy)\n",
    "        k2=dt*f(cy+k1/2,cyy+k1/2,cyyy+k1/2,t1+dt/2,ksi,wy+k1/2)\n",
    "        k3=dt*f(cy+k2/2,cyy+k2/2,cyyy+k2/2,t1+dt/2,ksi,wy+k2/2)\n",
    "        k4=dt*f(cy+k3,cyy+k3,cyyy+k3,t1+dt,ksi,wy+k3)\n",
    "        \n",
    "        c1[i+1]=c[i+1]+(k1+2*k2+2*k3+k4)/6\n",
    "       \n",
    "    T[n+1,:]=c1\n",
    "    c=c1\n"
   ]
  },
  {
   "cell_type": "code",
   "execution_count": 91,
   "metadata": {},
   "outputs": [],
   "source": [
    "c0=np.zeros(101) # valeurs des c suivant les ksi en t=t0 (premiere ligne de T)\n",
    "for i in range(99):\n",
    "    c0[i+1]=c_i[i]"
   ]
  },
  {
   "cell_type": "code",
   "execution_count": 93,
   "metadata": {},
   "outputs": [
    {
     "data": {
      "image/png": "[encoded data removed]",
      "text/plain": [
       "<Figure size 432x288 with 1 Axes>"
      ]
     },
     "metadata": {
      "needs_background": "light"
     },
     "output_type": "display_data"
    }
   ],
   "source": [
    "# Graphe des concentrations en fonction des valeurs de xi à l'instant initial et en t=10**-4\n",
    "plt.title(\"Concentration en $t=10^{-5}s$ et $t=10^{-4}s$\")\n",
    "plt.xlabel('$ \\\\xi $')\n",
    "plt.ylabel('Concentration')\n",
    "plt.grid()\n",
    "plt.plot(e, c0, color='C0', linestyle = '-', linewidth=2, label='Condition initiale')\n",
    "plt.plot(e, c, color='C1', linestyle = '-', linewidth=2, label='t=10**-4s')\n",
    "plt.legend()\n",
    "plt.ylim((-2.0, 2.0))\n",
    "plt.show()"
   ]
  },
  {
   "cell_type": "code",
   "execution_count": 92,
   "metadata": {},
   "outputs": [
    {
     "name": "stdout",
     "output_type": "stream",
     "text": [
      "6.488652780902914e+49\n"
     ]
    }
   ],
   "source": [
    "# Valeur maximale de la concentration en t=10**-4\n",
    "val_max=max(c)\n",
    "print(val_max)"
   ]
  },
  {
   "cell_type": "code",
   "execution_count": null,
   "metadata": {},
   "outputs": [],
   "source": []
  }
 ],
 "metadata": {
  "kernelspec": {
   "display_name": "Python 3",
   "language": "python",
   "name": "python3"
  },
  "language_info": {
   "codemirror_mode": {
    "name": "ipython",
    "version": 3
   },
   "file_extension": ".py",
   "mimetype": "text/x-python",
   "name": "python",
   "nbconvert_exporter": "python",
   "pygments_lexer": "ipython3",
   "version": "3.7.0"
  }
 },
 "nbformat": 4,
 "nbformat_minor": 2
}
